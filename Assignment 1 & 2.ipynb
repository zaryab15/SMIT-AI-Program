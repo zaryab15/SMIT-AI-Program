{
 "cells": [
  {
   "cell_type": "markdown",
   "id": "7917c4ab-1e7f-41e2-9712-42dc6c4bd94b",
   "metadata": {},
   "source": [
    "Assignment 1"
   ]
  },
  {
   "cell_type": "markdown",
   "id": "cb501a8a-e923-4f5d-952f-d5d2c7771b3e",
   "metadata": {},
   "source": [
    "Q 2-3"
   ]
  },
  {
   "cell_type": "code",
   "execution_count": 7,
   "id": "0fde6df2-5ee7-412b-8c8f-6dcc08b29629",
   "metadata": {},
   "outputs": [
    {
     "name": "stdout",
     "output_type": "stream",
     "text": [
      " Hello Zaryab, would you like to learn some Python today?\n"
     ]
    }
   ],
   "source": [
    "name = \"Zaryab\"\n",
    "print(f\" Hello {name}, would you like to learn some Python today?\")"
   ]
  },
  {
   "cell_type": "markdown",
   "id": "1f375a32-c24b-4bf0-80b4-9ce8f4da422c",
   "metadata": {},
   "source": [
    "Q 2-4"
   ]
  },
  {
   "cell_type": "code",
   "execution_count": 9,
   "id": "b9221105-f045-4f22-87c7-5f5ad50cd249",
   "metadata": {},
   "outputs": [
    {
     "name": "stdout",
     "output_type": "stream",
     "text": [
      "zaryab raza khan\n",
      "ZARYAB RAZA KHAN\n",
      "Zaryab Raza Khan\n"
     ]
    }
   ],
   "source": [
    "name = \"Zaryab RAZA khan\"\n",
    "print(name.lower())\n",
    "print(name.upper())\n",
    "print(name.title())"
   ]
  },
  {
   "cell_type": "markdown",
   "id": "99bdeb34-606d-4c38-83ac-d3b6ddb6d527",
   "metadata": {},
   "source": [
    "Q 2-6"
   ]
  },
  {
   "cell_type": "code",
   "execution_count": 13,
   "id": "982b79cd-64c0-4b14-93b6-6c27bb49ba85",
   "metadata": {},
   "outputs": [
    {
     "name": "stdout",
     "output_type": "stream",
     "text": [
      " Albert Einstein once said A person who never made a mistake never tried anything new \n"
     ]
    }
   ],
   "source": [
    "famous_person = \"Albert Einstein\"\n",
    "message = \"A person who never made a mistake never tried anything new\"\n",
    "print(f\" {famous_person} once said {message} \")"
   ]
  },
  {
   "cell_type": "code",
   "execution_count": 14,
   "id": "84947dfc-e160-400e-8e55-8fc143576846",
   "metadata": {},
   "outputs": [
    {
     "name": "stdout",
     "output_type": "stream",
     "text": [
      "Original name with whitespace: '\\t  Zaryab Raza Khan \\n'\n",
      "Using lstrip(): 'Zaryab Raza Khan \\n'\n",
      "Using rstrip(): '\\t  Zaryab Raza Khan'\n",
      "Using strip(): 'Zaryab Raza Khan'\n"
     ]
    }
   ],
   "source": [
    "name = \"\\t  Zaryab Raza Khan \\n\"\n",
    "print(\"Original name with whitespace:\", repr(name))\n",
    "print(\"Using lstrip():\", repr(name.lstrip()))\n",
    "print(\"Using rstrip():\", repr(name.rstrip()))\n",
    "print(\"Using strip():\", repr(name.strip()))"
   ]
  },
  {
   "cell_type": "markdown",
   "id": "2bdb3d09-a015-4114-9483-a790331b2ecd",
   "metadata": {},
   "source": [
    "Assignment 2"
   ]
  },
  {
   "cell_type": "markdown",
   "id": "c4edc769-ef8b-4766-b403-85db538238cc",
   "metadata": {},
   "source": [
    "Q-1 "
   ]
  },
  {
   "cell_type": "code",
   "execution_count": 1,
   "id": "0cc2f1de-475b-49bc-b077-2ce90810fc17",
   "metadata": {},
   "outputs": [
    {
     "name": "stdin",
     "output_type": "stream",
     "text": [
      "Enter a number :  6\n"
     ]
    },
    {
     "name": "stdout",
     "output_type": "stream",
     "text": [
      " 6 is even\n"
     ]
    }
   ],
   "source": [
    "num = int(input(\"Enter a number : \"))\n",
    "if num%2==0:\n",
    "    print( f\" {num} is even\")\n",
    "else:\n",
    "    print( f\" {num} is odd\")"
   ]
  },
  {
   "cell_type": "markdown",
   "id": "95f31f42-b410-4b35-8104-2dae6ebca538",
   "metadata": {},
   "source": [
    "Q-2"
   ]
  },
  {
   "cell_type": "code",
   "execution_count": 2,
   "id": "99f18529-405e-4f3f-a3b1-31e8db6cac63",
   "metadata": {},
   "outputs": [
    {
     "name": "stdin",
     "output_type": "stream",
     "text": [
      "Enter your name:  Zaryab\n",
      "Enter your age:  26\n"
     ]
    },
    {
     "name": "stdout",
     "output_type": "stream",
     "text": [
      " Zaryab is eligible to vote\n"
     ]
    }
   ],
   "source": [
    "name = input(\"Enter your name: \")\n",
    "age = int(input(\"Enter your age: \"))\n",
    "if age >= 18:\n",
    "    print(f\" {name} is eligible to vote\")\n",
    "else :\n",
    "    print(f\" {name} is not eligible to vote\")"
   ]
  },
  {
   "cell_type": "markdown",
   "id": "5d4091fb-3efc-42f3-bd37-2b09ed9f2c23",
   "metadata": {},
   "source": [
    "Q-3"
   ]
  },
  {
   "cell_type": "code",
   "execution_count": 3,
   "id": "3705a866-bcb2-458b-ad84-e888edef5eb3",
   "metadata": {},
   "outputs": [
    {
     "name": "stdin",
     "output_type": "stream",
     "text": [
      "Enter the first number:  99\n",
      "Enter the second number:  100\n"
     ]
    },
    {
     "name": "stdout",
     "output_type": "stream",
     "text": [
      "The largest number is 100\n"
     ]
    }
   ],
   "source": [
    "num1 = int(input(\"Enter the first number: \"))  \n",
    "num2 = int(input(\"Enter the second number: \"))  \n",
    "\n",
    "if num1 > num2:  \n",
    "    print(\"The largest number is\", num1)  \n",
    "elif num2 > num1:  \n",
    "    print(\"The largest number is\", num2)  \n",
    "else:  \n",
    "    print(\"Both numbers are equal.\")"
   ]
  },
  {
   "cell_type": "markdown",
   "id": "0d01a1d1-a230-4c4f-a4f5-bc80c9ec332c",
   "metadata": {},
   "source": [
    "Q-4"
   ]
  },
  {
   "cell_type": "code",
   "execution_count": 4,
   "id": "4a51be85-0ca2-4fdb-8680-538487ec8545",
   "metadata": {},
   "outputs": [
    {
     "name": "stdin",
     "output_type": "stream",
     "text": [
      "Enter a number:  -2\n"
     ]
    },
    {
     "name": "stdout",
     "output_type": "stream",
     "text": [
      "Negative\n"
     ]
    }
   ],
   "source": [
    "num = float(input(\"Enter a number: \"))\n",
    "\n",
    "if num > 0:\n",
    "    print(\"Positive\")\n",
    "elif num < 0:\n",
    "    print(\"Negative\")\n",
    "else:\n",
    "    print(\"Zero\")"
   ]
  },
  {
   "cell_type": "markdown",
   "id": "e93654da-92d4-4828-bb51-7e4aae84b50f",
   "metadata": {},
   "source": [
    "Q-5"
   ]
  },
  {
   "cell_type": "code",
   "execution_count": 5,
   "id": "96a575d5-309e-4a1b-add4-6eba533c1938",
   "metadata": {},
   "outputs": [
    {
     "name": "stdin",
     "output_type": "stream",
     "text": [
      "Enter your age:  24\n"
     ]
    },
    {
     "name": "stdout",
     "output_type": "stream",
     "text": [
      "Adult\n"
     ]
    }
   ],
   "source": [
    "age = int(input(\"Enter your age: \"))\n",
    "\n",
    "if age < 0:\n",
    "    print(\"Invalid age entered.\")\n",
    "elif age <= 12:\n",
    "    print(\"Child\")\n",
    "elif age <= 19:\n",
    "    print(\"Teenager\")\n",
    "elif age <= 59:\n",
    "    print(\"Adult\")\n",
    "else:\n",
    "    print(\"Senior Citizen\")"
   ]
  },
  {
   "cell_type": "markdown",
   "id": "9479a2fb-3b42-4075-9a54-f64bfe5c10d5",
   "metadata": {},
   "source": [
    "Q-6"
   ]
  },
  {
   "cell_type": "code",
   "execution_count": 6,
   "id": "454e7fd0-6b4f-40f9-85ca-142cd320affd",
   "metadata": {},
   "outputs": [
    {
     "name": "stdin",
     "output_type": "stream",
     "text": [
      "Enter a number (1-7):  6\n"
     ]
    },
    {
     "name": "stdout",
     "output_type": "stream",
     "text": [
      " The day is Friday\n"
     ]
    }
   ],
   "source": [
    "days = [\"Sunday\", \"Monday\", \"Tuesday\", \"Wednesday\", \"Thursday\", \"Friday\", \"Saturday\"]\n",
    "\n",
    "num = int(input(\"Enter a number (1-7): \"))\n",
    "\n",
    "if 1 <= num <= 7:\n",
    "    print(f\" The day is {days[num - 1]}\")\n",
    "else:\n",
    "    print(\"Error: Please enter a number between 1 and 7.\")"
   ]
  },
  {
   "cell_type": "markdown",
   "id": "a2c9a287-4305-4fb2-b7a9-73052ef002cd",
   "metadata": {},
   "source": [
    "Q-7"
   ]
  },
  {
   "cell_type": "code",
   "execution_count": 7,
   "id": "dd73448e-4ebb-4af5-bb55-6c92842b36e8",
   "metadata": {},
   "outputs": [
    {
     "name": "stdin",
     "output_type": "stream",
     "text": [
      "Enter your weight in kg:  63\n",
      "Enter your height in meters:  1.778\n"
     ]
    },
    {
     "name": "stdout",
     "output_type": "stream",
     "text": [
      "Your BMI is: 19.93\n",
      "Category: Normal weight\n"
     ]
    }
   ],
   "source": [
    "weight = float(input(\"Enter your weight in kg: \"))\n",
    "height = float(input(\"Enter your height in meters: \"))\n",
    "\n",
    "bmi = weight / (height * height)\n",
    "\n",
    "print(\"Your BMI is:\", round(bmi, 2))  # Round BMI to 2 decimal places\n",
    "\n",
    "if bmi < 18.5:\n",
    "    print(\"Category: Underweight\")\n",
    "elif bmi < 25:\n",
    "    print(\"Category: Normal weight\")\n",
    "elif bmi < 30:\n",
    "    print(\"Category: Overweight\")\n",
    "else:\n",
    "    print(\"Category: Obesity\")"
   ]
  },
  {
   "cell_type": "markdown",
   "id": "13770c1b-1719-4c4d-96de-cc13f3b7e744",
   "metadata": {},
   "source": [
    "Q-8"
   ]
  },
  {
   "cell_type": "code",
   "execution_count": 8,
   "id": "2c2f2a68-0a68-4503-8568-3291ba9a0257",
   "metadata": {},
   "outputs": [
    {
     "name": "stdin",
     "output_type": "stream",
     "text": [
      "Enter student name:  Zaryab Raza Khan\n",
      "Enter marks for Subject 1:  65\n",
      "Enter marks for Subject 2:  90\n",
      "Enter marks for Subject 3:  73\n"
     ]
    },
    {
     "name": "stdout",
     "output_type": "stream",
     "text": [
      "\n",
      "========================================\n",
      "              REPORT CARD              \n",
      "========================================\n",
      "Student Name:  Zaryab Raza Khan\n",
      "----------------------------------------\n",
      "Subject              Marks      Total     \n",
      "----------------------------------------\n",
      "Subject 1            65.0       100       \n",
      "Subject 2            90.0       100       \n",
      "Subject 3            73.0       100       \n",
      "----------------------------------------\n",
      "Total                228.0      300       \n",
      "Average Marks        76.0      \n",
      "Grade                C         \n",
      "========================================\n"
     ]
    }
   ],
   "source": [
    "name = input(\"Enter student name: \")\n",
    "subject1 = float(input(\"Enter marks for Subject 1: \"))\n",
    "subject2 = float(input(\"Enter marks for Subject 2: \"))\n",
    "subject3 = float(input(\"Enter marks for Subject 3: \"))\n",
    "\n",
    "total_marks = 300  # Assuming each subject is out of 100 marks\n",
    "obtained_marks = subject1 + subject2 + subject3\n",
    "average = obtained_marks / 3\n",
    "\n",
    "grades = [\"F\", \"D\", \"C\", \"B\", \"A\"]\n",
    "\n",
    "if average >= 90:\n",
    "    grade = grades[4]\n",
    "elif average >= 80:\n",
    "    grade = grades[3]\n",
    "elif average >= 70:\n",
    "    grade = grades[2]\n",
    "elif average >= 60:\n",
    "    grade = grades[1]\n",
    "else:\n",
    "    grade = grades[0]\n",
    "\n",
    "# Printing Report Card\n",
    "print(\"\\n\" + \"=\" * 40)\n",
    "print(\"              REPORT CARD              \")\n",
    "print(\"=\" * 40)\n",
    "print(\"Student Name: \", name)\n",
    "print(\"-\" * 40)\n",
    "print(\"{:<20} {:<10} {:<10}\".format(\"Subject\", \"Marks\", \"Total\"))\n",
    "print(\"-\" * 40)\n",
    "print(\"{:<20} {:<10} {:<10}\".format(\"Subject 1\", subject1, \"100\"))\n",
    "print(\"{:<20} {:<10} {:<10}\".format(\"Subject 2\", subject2, \"100\"))\n",
    "print(\"{:<20} {:<10} {:<10}\".format(\"Subject 3\", subject3, \"100\"))\n",
    "print(\"-\" * 40)\n",
    "print(\"{:<20} {:<10} {:<10}\".format(\"Total\", obtained_marks, total_marks))\n",
    "print(\"{:<20} {:<10}\".format(\"Average Marks\", round(average, 2)))\n",
    "print(\"{:<20} {:<10}\".format(\"Grade\", grade))\n",
    "print(\"=\" * 40)"
   ]
  },
  {
   "cell_type": "markdown",
   "id": "8a627721-53d4-4c30-9dfc-3fd1caf8c084",
   "metadata": {},
   "source": [
    "Q-9"
   ]
  },
  {
   "cell_type": "code",
   "execution_count": 1,
   "id": "0e4fcca2-baaf-41a4-a63d-918af62e79dd",
   "metadata": {},
   "outputs": [
    {
     "name": "stdin",
     "output_type": "stream",
     "text": [
      "Enter coefficient a (a ≠ 0):  1\n",
      "Enter coefficient b:  1\n",
      "Enter constant c:  1\n"
     ]
    },
    {
     "name": "stdout",
     "output_type": "stream",
     "text": [
      "\n",
      "Quadratic Equation: 1.0x² + 1.0x + 1.0 = 0\n",
      "Discriminant (Δ) = -3.0\n",
      "The equation has two complex roots:\n",
      "Root 1 = -0.5 + 0.8660254037844386 i\n",
      "Root 2 = -0.5 - 0.8660254037844386 i\n"
     ]
    }
   ],
   "source": [
    "import math as m\n",
    "\n",
    "a = float(input(\"Enter coefficient a (a ≠ 0): \"))\n",
    "b = float(input(\"Enter coefficient b: \"))\n",
    "c = float(input(\"Enter constant c: \"))\n",
    "\n",
    "discriminant = b ** 2 - 4 * a * c\n",
    "\n",
    "print(\"\\nQuadratic Equation: {}x² + {}x + {} = 0\".format(a, b, c))\n",
    "print(\"Discriminant (Δ) =\", discriminant)\n",
    "\n",
    "if discriminant > 0:\n",
    "    root1 = (-b + m.sqrt(discriminant)) / (2 * a)\n",
    "    root2 = (-b - m.sqrt(discriminant)) / (2 * a)\n",
    "    print(\"The equation has two real and distinct roots:\")\n",
    "    print(\"Root 1 =\", root1)\n",
    "    print(\"Root 2 =\", root2)\n",
    "\n",
    "elif discriminant == 0:\n",
    "    root = -b / (2 * a)\n",
    "    print(\"The equation has two equal (real and repeated) roots:\")\n",
    "    print(\"Root =\", root)\n",
    "\n",
    "else:\n",
    "    real_part = -b / (2 * a)\n",
    "    imaginary_part = m.sqrt(abs(discriminant)) / (2 * a)\n",
    "    print(\"The equation has two complex roots:\")\n",
    "    print(\"Root 1 =\", real_part, \"+\", imaginary_part, \"i\")\n",
    "    print(\"Root 2 =\", real_part, \"-\", imaginary_part, \"i\")\n"
   ]
  },
  {
   "cell_type": "markdown",
   "id": "15467621-b62d-4170-bb16-6497463819f6",
   "metadata": {},
   "source": [
    "Q-10"
   ]
  },
  {
   "cell_type": "code",
   "execution_count": 2,
   "id": "e8df58e2-0870-4a3a-89c3-165e6e733e00",
   "metadata": {},
   "outputs": [
    {
     "name": "stdin",
     "output_type": "stream",
     "text": [
      "Enter first number:  5\n",
      "Enter second number:  -2\n",
      "Enter third number:  0\n"
     ]
    },
    {
     "name": "stdout",
     "output_type": "stream",
     "text": [
      "Numbers in ascending order: [-2.0, 0.0, 5.0]\n"
     ]
    }
   ],
   "source": [
    "numbers = []\n",
    "numbers.append(float(input(\"Enter first number: \")))\n",
    "numbers.append(float(input(\"Enter second number: \")))\n",
    "numbers.append(float(input(\"Enter third number: \")))\n",
    "\n",
    "numbers.sort()\n",
    "\n",
    "print(\"Numbers in ascending order:\", numbers)"
   ]
  },
  {
   "cell_type": "markdown",
   "id": "73e2a7a1-25d9-4c14-9429-4d7adb50af16",
   "metadata": {},
   "source": [
    "Q-11"
   ]
  },
  {
   "cell_type": "code",
   "execution_count": 3,
   "id": "5dc545b4-3e57-473d-9372-91c867aab53a",
   "metadata": {},
   "outputs": [
    {
     "name": "stdin",
     "output_type": "stream",
     "text": [
      "Enter first number:  6\n",
      "Enter second number:  7\n",
      "Enter third number:  9\n"
     ]
    },
    {
     "name": "stdout",
     "output_type": "stream",
     "text": [
      "The largest number is: 9\n"
     ]
    }
   ],
   "source": [
    "num1 = int(input(\"Enter first number: \"))\n",
    "num2 = int(input(\"Enter second number: \"))\n",
    "num3 = int(input(\"Enter third number: \"))\n",
    "\n",
    "largest = max(num1, num2, num3)\n",
    "\n",
    "print(\"The largest number is:\", largest)"
   ]
  },
  {
   "cell_type": "markdown",
   "id": "68bb9ccc-2242-41c2-8af1-142d01e1b1e0",
   "metadata": {},
   "source": [
    "Q-12"
   ]
  },
  {
   "cell_type": "code",
   "execution_count": 4,
   "id": "99052eca-f862-473a-a82f-c7f57cdb4350",
   "metadata": {},
   "outputs": [
    {
     "name": "stdin",
     "output_type": "stream",
     "text": [
      "Enter a character:  A\n"
     ]
    },
    {
     "name": "stdout",
     "output_type": "stream",
     "text": [
      "The character is a vowel.\n"
     ]
    }
   ],
   "source": [
    "char = input(\"Enter a character: \").lower()\n",
    "\n",
    "if len(char) == 1 and char.isalpha():\n",
    "    if char in ['a', 'e', 'i', 'o', 'u']:\n",
    "        print(\"The character is a vowel.\")\n",
    "    else:\n",
    "        print(\"The character is a consonant.\")\n",
    "else:\n",
    "    print(\"Invalid input! Please enter a single alphabetic character.\")"
   ]
  },
  {
   "cell_type": "markdown",
   "id": "ad20a3d1-591d-4553-8737-e6b59ea441d7",
   "metadata": {},
   "source": [
    "Q-13"
   ]
  },
  {
   "cell_type": "code",
   "execution_count": 5,
   "id": "58375260-7c20-49b8-9436-8720326bdc39",
   "metadata": {},
   "outputs": [
    {
     "name": "stdin",
     "output_type": "stream",
     "text": [
      "Enter a year:  2024\n"
     ]
    },
    {
     "name": "stdout",
     "output_type": "stream",
     "text": [
      "2024 is a Leap Year.\n"
     ]
    }
   ],
   "source": [
    "year = int(input(\"Enter a year: \"))\n",
    "\n",
    "if year % 4 == 0:\n",
    "    if year % 100 == 0:\n",
    "        if year % 400 == 0:\n",
    "            print(year, \"is a Leap Year.\")\n",
    "        else:\n",
    "            print(year, \"is NOT a Leap Year.\")\n",
    "    else:\n",
    "        print(year, \"is a Leap Year.\")\n",
    "else:\n",
    "    print(year, \"is NOT a Leap Year.\")"
   ]
  },
  {
   "cell_type": "markdown",
   "id": "5139b366-739a-44c8-90d6-e7c9c6fed1e9",
   "metadata": {},
   "source": [
    "Q-14"
   ]
  },
  {
   "cell_type": "code",
   "execution_count": 6,
   "id": "99dfc120-3532-4e3a-9369-119caab76835",
   "metadata": {},
   "outputs": [
    {
     "name": "stdin",
     "output_type": "stream",
     "text": [
      "Enter the number of calls:  500\n"
     ]
    },
    {
     "name": "stdout",
     "output_type": "stream",
     "text": [
      "Your total bill is Rs. 375.0\n"
     ]
    }
   ],
   "source": [
    "calls = int(input(\"Enter the number of calls: \"))\n",
    "\n",
    "bill = 200  \n",
    "\n",
    "if calls > 100:\n",
    "    if calls <= 150:\n",
    "        bill += (calls - 100) * 0.60  \n",
    "    elif calls <= 200:\n",
    "        bill += (50 * 0.60) + (calls - 150) * 0.50  \n",
    "    else:\n",
    "        bill += (50 * 0.60) + (50 * 0.50) + (calls - 200) * 0.40  \n",
    "\n",
    "print(\"Your total bill is Rs.\", bill)"
   ]
  },
  {
   "cell_type": "code",
   "execution_count": null,
   "id": "fa8e5f82-ce83-4894-9bd9-f313a72d57ed",
   "metadata": {},
   "outputs": [],
   "source": []
  }
 ],
 "metadata": {
  "kernelspec": {
   "display_name": "Python 3 (ipykernel)",
   "language": "python",
   "name": "python3"
  },
  "language_info": {
   "codemirror_mode": {
    "name": "ipython",
    "version": 3
   },
   "file_extension": ".py",
   "mimetype": "text/x-python",
   "name": "python",
   "nbconvert_exporter": "python",
   "pygments_lexer": "ipython3",
   "version": "3.12.4"
  }
 },
 "nbformat": 4,
 "nbformat_minor": 5
}
